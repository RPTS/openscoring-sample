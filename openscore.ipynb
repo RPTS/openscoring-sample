{
 "cells": [
  {
   "cell_type": "markdown",
   "id": "b37b70e4",
   "metadata": {
    "toc": true
   },
   "source": [
    "<h1>Table of Contents<span class=\"tocSkip\"></span></h1>\n",
    "<div class=\"toc\"><ul class=\"toc-item\"></ul></div>"
   ]
  },
  {
   "cell_type": "code",
   "execution_count": null,
   "id": "537ef967",
   "metadata": {},
   "outputs": [],
   "source": [
    "import pandas as pd\n",
    "from sklearn2pmml.pipeline import PMMLPipeline\n",
    "from sklearn2pmml import sklearn2pmml\n",
    "from sklearn.neighbors import KNeighborsRegressor\n",
    "from openscoring import Openscoring\n",
    "import numpy as np\n",
    "from openscoring import EvaluationRequest\n",
    "from sklearn.tree import DecisionTreeRegressor\n",
    "import ast"
   ]
  },
  {
   "cell_type": "markdown",
   "id": "407ce600-3093-4bd4-8be7-212b664ebf37",
   "metadata": {},
   "source": [
    "# Prepare train data"
   ]
  },
  {
   "cell_type": "code",
   "execution_count": null,
   "id": "06ee7cad-0fdf-4a3f-9c26-c08119ceb18e",
   "metadata": {},
   "outputs": [],
   "source": [
    "movie_df = pd.read_csv(\"movies_metadata.csv\")"
   ]
  },
  {
   "cell_type": "code",
   "execution_count": null,
   "id": "446eec00-d15d-4840-9340-56005089bada",
   "metadata": {},
   "outputs": [],
   "source": [
    "train_df = movie_df[[\"budget\",\"genres\",\"vote_average\"]]"
   ]
  },
  {
   "cell_type": "code",
   "execution_count": null,
   "id": "86f5341b-77aa-401e-ac90-578b03b65c89",
   "metadata": {},
   "outputs": [],
   "source": [
    "train_df.head()"
   ]
  },
  {
   "cell_type": "code",
   "execution_count": null,
   "id": "7ee00e18-acb7-4ec2-8ffd-e13ece7708f1",
   "metadata": {},
   "outputs": [],
   "source": [
    "train_df.loc[:,\"genres\"] = train_df.genres.apply(lambda x: ast.literal_eval(x))"
   ]
  },
  {
   "cell_type": "code",
   "execution_count": null,
   "id": "11bac482-6dc5-47e6-ba81-9860cb47a6b0",
   "metadata": {},
   "outputs": [],
   "source": [
    "train_df.loc[:,\"genres\"] = train_df.genres.apply(lambda x: [dc['name'] for dc in x if len(x)>0])"
   ]
  },
  {
   "cell_type": "code",
   "execution_count": null,
   "id": "5a43cb07-4e36-4d0d-bcc9-b4694291255f",
   "metadata": {},
   "outputs": [],
   "source": [
    "all_genres = train_df.genres.explode().unique()"
   ]
  },
  {
   "cell_type": "code",
   "execution_count": null,
   "id": "ec904c2a-06f9-4d3b-b775-4b70a1680bb5",
   "metadata": {},
   "outputs": [],
   "source": [
    "new_df = pd.DataFrame({x:[0]*train_df.shape[0] for x in all_genres})"
   ]
  },
  {
   "cell_type": "code",
   "execution_count": null,
   "id": "cacb1b54-c880-4b00-a78e-88df0ae6bec8",
   "metadata": {},
   "outputs": [],
   "source": [
    "new_train = pd.concat((train_df,new_df),axis=1)"
   ]
  },
  {
   "cell_type": "code",
   "execution_count": null,
   "id": "0f79b4e1-290d-4df5-8b88-d11d8f6d4cd7",
   "metadata": {},
   "outputs": [],
   "source": [
    "new_train.head()\n"
   ]
  },
  {
   "cell_type": "code",
   "execution_count": null,
   "id": "e27a1162-f8fc-45b0-90b4-b792855c9ccd",
   "metadata": {
    "tags": []
   },
   "outputs": [],
   "source": [
    "for i in range(new_train.shape[0]):\n",
    "    for x in new_train.loc[i,\"genres\"]:\n",
    "        new_train.loc[i,x] = 1\n"
   ]
  },
  {
   "cell_type": "markdown",
   "id": "054d98ff-969c-4456-9649-d520a7ba6925",
   "metadata": {},
   "source": [
    "# post processing and normalizing"
   ]
  },
  {
   "cell_type": "code",
   "execution_count": null,
   "id": "e90f6674-5094-451d-91da-f21fdf9f9278",
   "metadata": {},
   "outputs": [],
   "source": [
    "new_train = new_train[~new_train['budget'].str.contains('jpg')]"
   ]
  },
  {
   "cell_type": "code",
   "execution_count": null,
   "id": "c112a4ef-247c-4d7e-9279-6441f726cf51",
   "metadata": {},
   "outputs": [],
   "source": [
    "new_train.budget = new_train.budget.astype(\"int32\")"
   ]
  },
  {
   "cell_type": "code",
   "execution_count": null,
   "id": "dbd259c0-2e12-4d25-aad6-e83fe1997ba4",
   "metadata": {},
   "outputs": [],
   "source": [
    "new_train.budget = new_train.budget/new_train.budget.max()"
   ]
  },
  {
   "cell_type": "code",
   "execution_count": null,
   "id": "201d55ca-a5a0-41cf-8a23-2f7f8c9b7275",
   "metadata": {},
   "outputs": [],
   "source": [
    "new_train = new_train.drop(columns=[\"genres\"])"
   ]
  },
  {
   "cell_type": "code",
   "execution_count": null,
   "id": "201bfbb3-66d5-4ce8-a0d1-892587f00478",
   "metadata": {},
   "outputs": [],
   "source": [
    "new_train.dropna(inplace=True)"
   ]
  },
  {
   "cell_type": "code",
   "execution_count": null,
   "id": "8aa9794b-beb6-4d46-8e28-0c51c3eac526",
   "metadata": {},
   "outputs": [],
   "source": [
    "new_train.columns"
   ]
  },
  {
   "cell_type": "code",
   "execution_count": null,
   "id": "53767563-2975-400c-8972-91b97c594357",
   "metadata": {},
   "outputs": [],
   "source": [
    "new_train.iloc[:,[0]+list(range(2,new_train.shape[1]))]"
   ]
  },
  {
   "cell_type": "code",
   "execution_count": null,
   "id": "5807efd1-ef7e-46b1-a3b6-493af7a3179e",
   "metadata": {},
   "outputs": [],
   "source": [
    "new_train.drop(columns=[np.nan],inplace=True)"
   ]
  },
  {
   "cell_type": "code",
   "execution_count": null,
   "id": "5ce3a47b-662a-4439-8fb9-92ea2e070ec2",
   "metadata": {
    "tags": []
   },
   "outputs": [],
   "source": [
    "# trainX = new_train.iloc[:,[0]+list(range(2,new_train.shape[1]))]\n",
    "trainX = new_train.drop(columns=[\"vote_average\"])\n",
    "trainy = new_train[\"vote_average\"]\n",
    "\n",
    "pipeline = PMMLPipeline([\n",
    "(\"dt\", DecisionTreeRegressor(max_depth = 3))\n",
    "])\n",
    "pipeline.fit(trainX, trainy)\n",
    "\n",
    "sklearn2pmml(pipeline, \"decisionTree.pmml\", with_repr = True)"
   ]
  },
  {
   "cell_type": "code",
   "execution_count": null,
   "id": "4d5bf9c6-5fb1-4148-ba0a-35b98f0a61ce",
   "metadata": {},
   "outputs": [],
   "source": [
    " trainX.columns"
   ]
  },
  {
   "cell_type": "markdown",
   "id": "d9ef36c2-736e-4cb7-b759-df6bc19545b9",
   "metadata": {},
   "source": [
    "# deploying to openscoring"
   ]
  },
  {
   "cell_type": "markdown",
   "id": "ff801358-403d-48f2-93d3-9a2c68377315",
   "metadata": {},
   "source": [
    "**start a server: java -jar openscoring-server-executable-2.1.1.jar**"
   ]
  },
  {
   "cell_type": "code",
   "execution_count": null,
   "id": "2539d2a7-a093-48f6-88af-f42da2596e48",
   "metadata": {},
   "outputs": [],
   "source": [
    "os = Openscoring(base_url = \"http://localhost:8080/openscoring\")"
   ]
  },
  {
   "cell_type": "markdown",
   "id": "ab47dbd6-95f4-40bf-aa24-ca6995964d81",
   "metadata": {},
   "source": [
    "**deploy: java -cp openscoring-client-executable-2.1.1.jar org.openscoring.client.Deployer --model http://localhost:8080/openscoring/model/DT --file decisionTree.pmml**"
   ]
  },
  {
   "cell_type": "code",
   "execution_count": null,
   "id": "9a243c27-80d1-4126-acf0-5afa3baf7f5a",
   "metadata": {},
   "outputs": [],
   "source": [
    "columns = []\n",
    "col_spec = \"\"\n",
    "arguments = {}\n",
    "for genre in trainX.columns:\n",
    "    new_name = genre.replace(\" \",\"_\")\n",
    "    columns.append(new_name)\n",
    "    block_str=\"\"\n",
    "    if genre == \"budget\":\n",
    "        block_str = f\" -X{new_name}=0.3\"\n",
    "        arguments[new_name]=0.3\n",
    "    elif genre == \"Animation\":\n",
    "        block_str = f\" -X{new_name}=1\"\n",
    "        arguments[new_name]=1\n",
    "    else:\n",
    "        block_str = f\" -X{new_name}=0\"\n",
    "        arguments[new_name]=0\n",
    "    col_spec += block_str\n",
    "    \n",
    "columns\n",
    "col_spec"
   ]
  },
  {
   "cell_type": "code",
   "execution_count": null,
   "id": "eb26db66-3944-4e88-ba0c-63d0feae6cfe",
   "metadata": {},
   "outputs": [],
   "source": [
    "arguments"
   ]
  },
  {
   "cell_type": "code",
   "execution_count": null,
   "id": "c6dccac0-0376-4ef2-8241-bfff904b2de5",
   "metadata": {},
   "outputs": [],
   "source": [
    "results = os.evaluate(\"DT\", arguments)\n",
    "print(results)\n"
   ]
  },
  {
   "cell_type": "code",
   "execution_count": null,
   "id": "99b03470-68b0-49d7-8034-cbb961ca169b",
   "metadata": {},
   "outputs": [],
   "source": [
    "\n",
    "evaluationRequest = EvaluationRequest(\"001\", arguments)\n",
    "\n",
    "evaluationResponse = os.evaluate(\"DT\", evaluationRequest)\n",
    "print(evaluationResponse.results)"
   ]
  },
  {
   "cell_type": "markdown",
   "id": "bf8f7f41-b4f4-4302-b64f-683d63adce98",
   "metadata": {},
   "source": [
    "Equivalently, use \n",
    "\n",
    "**java -cp openscoring-client-executable-2.1.1.jar org.openscoring.client.Evaluator --model http://localhost:8080/openscoring/model/DT  -Xbudget=0.3 -XAnimation=1 -XComedy=0 -XFamily=0 -XAdventure=0 -XFantasy=0 -XRomance=0 -XDrama=0 -XAction=0 -XCrime=0 -XThriller=0 -XHorror=0 -XHistory=0 -XScience_Fiction=0 -XMystery=0 -XWar=0 -XForeign=0 -XMusic=0 -XDocumentary=0 -XWestern=0 -XTV_Movie=0 -XCarousel_Productions=0 -XVision_View_Entertainment=0 -XTelescene_Film_Group_Productions=0 -XAniplex=0 -XGoHands=0 -XBROSTA_TV=0 -XMardock_Scramble_Production_Committee=0 -XSentai_Filmworks=0 -XOdyssey_Media=0 -XPulser_Productions=0 -XRogue_State=0 -XThe_Cartel=0**\n"
   ]
  },
  {
   "cell_type": "code",
   "execution_count": null,
   "id": "7ef46248-2d9a-4616-8d0a-54ca54ed2019",
   "metadata": {},
   "outputs": [],
   "source": []
  }
 ],
 "metadata": {
  "kernelspec": {
   "display_name": "Python 3 (ipykernel)",
   "language": "python",
   "name": "python3"
  },
  "language_info": {
   "codemirror_mode": {
    "name": "ipython",
    "version": 3
   },
   "file_extension": ".py",
   "mimetype": "text/x-python",
   "name": "python",
   "nbconvert_exporter": "python",
   "pygments_lexer": "ipython3",
   "version": "3.8.8"
  },
  "toc": {
   "base_numbering": 1,
   "nav_menu": {},
   "number_sections": true,
   "sideBar": true,
   "skip_h1_title": false,
   "title_cell": "Table of Contents",
   "title_sidebar": "Contents",
   "toc_cell": true,
   "toc_position": {},
   "toc_section_display": true,
   "toc_window_display": false
  }
 },
 "nbformat": 4,
 "nbformat_minor": 5
}
